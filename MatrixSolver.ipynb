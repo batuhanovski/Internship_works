{
 "cells": [
  {
   "cell_type": "code",
   "execution_count": 404,
   "metadata": {},
   "outputs": [],
   "source": [
    "import os\n",
    "os.chdir('E:\\Cmpe\\Ie310\\HW2')\n",
    "data = open('Data6.txt')"
   ]
  },
  {
   "cell_type": "code",
   "execution_count": 405,
   "metadata": {},
   "outputs": [],
   "source": [
    "lines=data.readlines()"
   ]
  },
  {
   "cell_type": "code",
   "execution_count": 406,
   "metadata": {},
   "outputs": [],
   "source": [
    "n=int(lines[0][:-1])"
   ]
  },
  {
   "cell_type": "code",
   "execution_count": 407,
   "metadata": {},
   "outputs": [],
   "source": [
    "glines=[]\n",
    "glines2=[]\n",
    "B = []\n",
    "A = []\n",
    "C = []\n",
    "D = []"
   ]
  },
  {
   "cell_type": "code",
   "execution_count": 408,
   "metadata": {},
   "outputs": [],
   "source": [
    "for line in lines:\n",
    "    if line[-1:] != '\\n':\n",
    "        glines.append(line)\n",
    "    else:    \n",
    "        glines.append(line[:-1])\n",
    "for gline in glines:\n",
    "    glines2.append(gline.split())"
   ]
  },
  {
   "cell_type": "code",
   "execution_count": 409,
   "metadata": {},
   "outputs": [],
   "source": [
    "for i in range(1,n+1):\n",
    "    B.append(float(glines2[i][n]))\n",
    "for i in range(1,n+1):\n",
    "    A.append(glines2[i][:-1])\n",
    "for i in range(0,n):\n",
    "    for j in range(0,n):\n",
    "        A[i][j]=float(A[i][j])    "
   ]
  },
  {
   "cell_type": "code",
   "execution_count": 410,
   "metadata": {},
   "outputs": [],
   "source": [
    "for i in range(n):\n",
    "    for j in range(n):\n",
    "        C.append(A[j][i])\n",
    "    D.append(list(C))\n",
    "    C = []"
   ]
  },
  {
   "cell_type": "code",
   "execution_count": 411,
   "metadata": {},
   "outputs": [],
   "source": [
    "D=A"
   ]
  },
  {
   "cell_type": "code",
   "execution_count": 412,
   "metadata": {},
   "outputs": [],
   "source": [
    "I=[]\n",
    "row=[]\n",
    "for i in range (n):\n",
    "    for j in range (n):\n",
    "        if i == j:\n",
    "            row.append(1)\n",
    "        else:\n",
    "            row.append(0)\n",
    "    I.append(row)\n",
    "    row=[]"
   ]
  },
  {
   "cell_type": "code",
   "execution_count": 413,
   "metadata": {},
   "outputs": [],
   "source": [
    "def matrixOrganizer():           #2 den fazla 0 olma case'inde çalışmıyor.\n",
    "    for i in range(n-1):\n",
    "        if D[i][i]==0:\n",
    "            for j in range(i+1,n):\n",
    "                if D[j][i]!=0:\n",
    "                    temp=D[i]\n",
    "                    D[i]=D[j]\n",
    "                    D[j]=temp\n",
    "                    temp=B[i]\n",
    "                    B[i]=B[j]\n",
    "                    B[j]=temp\n",
    "                    temp=I[i]\n",
    "                    I[i]=I[j]\n",
    "                    I[j]=temp"
   ]
  },
  {
   "cell_type": "code",
   "execution_count": 414,
   "metadata": {},
   "outputs": [],
   "source": [
    "matrixOrganizer()"
   ]
  },
  {
   "cell_type": "code",
   "execution_count": 415,
   "metadata": {},
   "outputs": [],
   "source": [
    "def exchangeRows(first,second):\n",
    "    temp=D[first]\n",
    "    D[first]=D[second]\n",
    "    D[second]=temp\n",
    "    temp = B[first]\n",
    "    B[first]=B[second]\n",
    "    B[second]=temp\n",
    "    temp=I[first]\n",
    "    I[first]=I[second]\n",
    "    I[second]=temp"
   ]
  },
  {
   "cell_type": "code",
   "execution_count": 416,
   "metadata": {},
   "outputs": [],
   "source": [
    "def multipleRow(const,rownum):\n",
    "    for i in range(n):\n",
    "        D[rownum][i]=round(const*D[rownum][i],5)\n",
    "        I[rownum][i]=round(const*I[rownum][i],5)\n",
    "    B[rownum]=round(B[rownum]*const,5)    "
   ]
  },
  {
   "cell_type": "code",
   "execution_count": 417,
   "metadata": {},
   "outputs": [],
   "source": [
    "def addmultofRows(multiple,source,dest):\n",
    "    temp=[]\n",
    "    tempI=[]\n",
    "    for i in range(n):\n",
    "        temp.append(multiple*D[source][i])      \n",
    "        tempI.append(multiple*I[source][i])\n",
    "    for i in range(n):    \n",
    "        D[dest][i]=round(D[dest][i]+temp[i],3)\n",
    "        I[dest][i]=round(I[dest][i]+tempI[i],3)\n",
    "    B[dest]=round(multiple*B[source]+B[dest],3)"
   ]
  },
  {
   "cell_type": "code",
   "execution_count": 418,
   "metadata": {},
   "outputs": [],
   "source": [
    "def echelonMatrix():\n",
    "    try:\n",
    "        for i in range(n):\n",
    "            matrixOrganizer()\n",
    "            multipleRow(1/D[i][i],i)\n",
    "            for j in range(i+1,n):\n",
    "                addmultofRows(-D[j][i],i,j)\n",
    "    except ZeroDivisionError:\n",
    "        if B[n-1]==0: #burda olmayan bi case olabilir\n",
    "            return 1\n",
    "        else:\n",
    "            return 2\n",
    "    else: return 0"
   ]
  },
  {
   "cell_type": "code",
   "execution_count": 420,
   "metadata": {},
   "outputs": [
    {
     "data": {
      "text/plain": [
       "[0.0, 0.0, 0.0, 0.0]"
      ]
     },
     "execution_count": 420,
     "metadata": {},
     "output_type": "execute_result"
    }
   ],
   "source": [
    "zeroRow=[]\n",
    "for i in range(n):\n",
    "    zeroRow.append(float(0))\n",
    "zeroRow"
   ]
  },
  {
   "cell_type": "code",
   "execution_count": 433,
   "metadata": {},
   "outputs": [],
   "source": [
    "countzeroRow=0\n",
    "for i in range(n):\n",
    "    if D[i]==zeroRow:\n",
    "        countzeroRow=countzeroRow+1"
   ]
  },
  {
   "cell_type": "code",
   "execution_count": 435,
   "metadata": {},
   "outputs": [],
   "source": [
    "check=echelonMatrix()"
   ]
  },
  {
   "cell_type": "code",
   "execution_count": 437,
   "metadata": {},
   "outputs": [],
   "source": [
    "def findSolution():\n",
    "    if check == 0:\n",
    "        for i in range (n):\n",
    "            matrixOrganizer()\n",
    "            for j in range(i+1,n):\n",
    "                addmultofRows(-D[n-1-j][n-1-i],n-1-i,n-1-j)\n",
    "    elif check == 1:\n",
    "        for i in range(n):\n",
    "            matrixOrganizer()\n",
    "            if D[n-1-i][n-1-i]==0:\n",
    "                for j in range(i+1,n):\n",
    "                    addmultofRows(-D[n-2-j][n-2-i],n-2-i,n-2-j)"
   ]
  },
  {
   "cell_type": "code",
   "execution_count": 438,
   "metadata": {},
   "outputs": [],
   "source": [
    "findSolution()"
   ]
  },
  {
   "cell_type": "code",
   "execution_count": 444,
   "metadata": {},
   "outputs": [
    {
     "name": "stdout",
     "output_type": "stream",
     "text": [
      "Arbitrary values:  0.0 0.0 0.0 \n",
      "Arbitrary Solution:  0.0 1.0 0.0 0.0 "
     ]
    }
   ],
   "source": [
    "if check == 2:\n",
    "    print('Inconsistent problem')\n",
    "elif check == 1:\n",
    "    print('Arbitrary values: ',end=' ')  \n",
    "    for i in range(countzeroRow+1):\n",
    "        print(0.0,end=' ')\n",
    "    print()    \n",
    "    print('Arbitrary Solution: ',end=' ') \n",
    "    for i in range(n):\n",
    "        print(B[i],end=' ')\n",
    "else:\n",
    "    print('Unique Solution: ',end=' ')\n",
    "    for i in range(n):\n",
    "        print(B[i],end=' ')\n",
    "    print()    \n",
    "    print('Inverted A:', end=' ')\n",
    "    for i in range(n):\n",
    "        print()\n",
    "        for j in range(n):\n",
    "            print(I[i][j], end=' ')"
   ]
  },
  {
   "cell_type": "code",
   "execution_count": null,
   "metadata": {},
   "outputs": [],
   "source": []
  },
  {
   "cell_type": "code",
   "execution_count": null,
   "metadata": {},
   "outputs": [],
   "source": []
  },
  {
   "cell_type": "code",
   "execution_count": 428,
   "metadata": {
    "scrolled": true
   },
   "outputs": [
    {
     "ename": "SyntaxError",
     "evalue": "invalid syntax (<ipython-input-428-ce10d19cf7fa>, line 4)",
     "output_type": "error",
     "traceback": [
      "\u001b[1;36m  File \u001b[1;32m\"<ipython-input-428-ce10d19cf7fa>\"\u001b[1;36m, line \u001b[1;32m4\u001b[0m\n\u001b[1;33m    if D[i]\u001b[0m\n\u001b[1;37m           ^\u001b[0m\n\u001b[1;31mSyntaxError\u001b[0m\u001b[1;31m:\u001b[0m invalid syntax\n"
     ]
    }
   ],
   "source": [
    "def rankFinder():\n",
    "    for i in range(n):\n",
    "        for j in range(n):\n",
    "            if D[i]"
   ]
  },
  {
   "cell_type": "code",
   "execution_count": null,
   "metadata": {},
   "outputs": [],
   "source": []
  },
  {
   "cell_type": "code",
   "execution_count": null,
   "metadata": {},
   "outputs": [],
   "source": []
  },
  {
   "cell_type": "code",
   "execution_count": null,
   "metadata": {},
   "outputs": [],
   "source": []
  },
  {
   "cell_type": "code",
   "execution_count": null,
   "metadata": {},
   "outputs": [],
   "source": []
  },
  {
   "cell_type": "code",
   "execution_count": null,
   "metadata": {},
   "outputs": [],
   "source": []
  },
  {
   "cell_type": "code",
   "execution_count": null,
   "metadata": {},
   "outputs": [],
   "source": []
  },
  {
   "cell_type": "code",
   "execution_count": null,
   "metadata": {},
   "outputs": [],
   "source": []
  },
  {
   "cell_type": "code",
   "execution_count": null,
   "metadata": {},
   "outputs": [],
   "source": []
  },
  {
   "cell_type": "code",
   "execution_count": null,
   "metadata": {},
   "outputs": [],
   "source": []
  },
  {
   "cell_type": "code",
   "execution_count": null,
   "metadata": {},
   "outputs": [],
   "source": []
  },
  {
   "cell_type": "code",
   "execution_count": null,
   "metadata": {},
   "outputs": [],
   "source": []
  }
 ],
 "metadata": {
  "kernelspec": {
   "display_name": "Python 3",
   "language": "python",
   "name": "python3"
  },
  "language_info": {
   "codemirror_mode": {
    "name": "ipython",
    "version": 3
   },
   "file_extension": ".py",
   "mimetype": "text/x-python",
   "name": "python",
   "nbconvert_exporter": "python",
   "pygments_lexer": "ipython3",
   "version": "3.7.6"
  }
 },
 "nbformat": 4,
 "nbformat_minor": 4
}
