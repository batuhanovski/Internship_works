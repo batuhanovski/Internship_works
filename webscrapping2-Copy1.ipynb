{
 "cells": [
  {
   "cell_type": "code",
   "execution_count": 3,
   "metadata": {},
   "outputs": [],
   "source": [
    "import pandas as pd\n",
    "import numpy as np\n",
    "import matplotlib.pyplot as plt\n",
    "%matplotlib inline\n",
    "import seaborn as sns\n",
    "import os\n",
    "from datetime import date\n",
    "import datetime\n",
    "from datetime import timedelta\n",
    "import plotly.offline as py"
   ]
  },
  {
   "cell_type": "code",
   "execution_count": 4,
   "metadata": {},
   "outputs": [],
   "source": [
    "from selenium import webdriver\n",
    "from bs4 import BeautifulSoup\n",
    "import time\n",
    "from bs4.element import Tag"
   ]
  },
  {
   "cell_type": "code",
   "execution_count": 5,
   "metadata": {},
   "outputs": [],
   "source": [
    "from selenium import webdriver\n",
    "from selenium.webdriver.chrome.options import Options"
   ]
  },
  {
   "cell_type": "code",
   "execution_count": 6,
   "metadata": {},
   "outputs": [],
   "source": [
    "n=pd.read_excel('C:\\\\Users\\\\lenovo\\\\Desktop\\\\Pubinno\\\\Task5(webscrapping)\\\\name_county.xlsx')"
   ]
  },
  {
   "cell_type": "code",
   "execution_count": 7,
   "metadata": {},
   "outputs": [],
   "source": [
    "m=pd.read_excel('C:\\\\Users\\lenovo\\Desktop\\Pubinno\\Task5(webscrapping)\\mekans.xlsx')"
   ]
  },
  {
   "cell_type": "code",
   "execution_count": 8,
   "metadata": {},
   "outputs": [],
   "source": [
    "n=n.merge(m,on='ADI')"
   ]
  },
  {
   "cell_type": "code",
   "execution_count": 9,
   "metadata": {},
   "outputs": [],
   "source": [
    "def andreplacer(string):\n",
    "    if \"&\" in string:\n",
    "        return string.replace(\"&\",\" \")\n",
    "    return string"
   ]
  },
  {
   "cell_type": "code",
   "execution_count": 10,
   "metadata": {},
   "outputs": [],
   "source": [
    "n['new']=n.apply(lambda n: andreplacer(n['he']),axis=1)"
   ]
  },
  {
   "cell_type": "code",
   "execution_count": 11,
   "metadata": {},
   "outputs": [],
   "source": [
    "def replacer(string):\n",
    "    return string.replace(\" \",\"+\")"
   ]
  },
  {
   "cell_type": "code",
   "execution_count": 12,
   "metadata": {},
   "outputs": [],
   "source": [
    "n['new']=n.apply(lambda n: replacer(n['new']),axis=1)"
   ]
  },
  {
   "cell_type": "code",
   "execution_count": 13,
   "metadata": {},
   "outputs": [],
   "source": [
    "def removelastplus(string):\n",
    "    if string[-1:] == '+':\n",
    "        return string[0:-1]\n",
    "    return string"
   ]
  },
  {
   "cell_type": "code",
   "execution_count": 14,
   "metadata": {},
   "outputs": [],
   "source": [
    "n['new']=n.apply(lambda n: removelastplus(n['new']),axis=1)"
   ]
  },
  {
   "cell_type": "code",
   "execution_count": 15,
   "metadata": {},
   "outputs": [],
   "source": [
    "mekans=n['new']"
   ]
  },
  {
   "cell_type": "code",
   "execution_count": 16,
   "metadata": {},
   "outputs": [],
   "source": [
    "chrome_options = Options()\n",
    "chrome_options.add_argument(\"--headless\")\n",
    "driver_path = 'C:\\\\Users\\lenovo\\Desktop\\Pubinno\\Task5(webscrapping)\\chromedriver'\n",
    "driver = webdriver.Chrome(executable_path=driver_path, options=chrome_options)"
   ]
  },
  {
   "cell_type": "code",
   "execution_count": 17,
   "metadata": {},
   "outputs": [],
   "source": [
    "m=m.drop(columns='Litre')"
   ]
  },
  {
   "cell_type": "code",
   "execution_count": 18,
   "metadata": {},
   "outputs": [],
   "source": [
    "names=m['ADI']"
   ]
  },
  {
   "cell_type": "code",
   "execution_count": 19,
   "metadata": {},
   "outputs": [],
   "source": [
    "from tqdm.notebook import tqdm"
   ]
  },
  {
   "cell_type": "code",
   "execution_count": null,
   "metadata": {},
   "outputs": [],
   "source": [
    "result=[]\n",
    "for mekan in tqdm(mekans):\n",
    "    try:\n",
    "        google_url = \"https://www.google.com/search?q=\"+mekan\n",
    "        driver.get(google_url)\n",
    "        time.sleep(3)\n",
    "        soup = BeautifulSoup(driver.page_source,'lxml')\n",
    "        result_div = soup.find_all('div', attrs={'class': 'Ob2kfd'})\n",
    "        result.append(str(result_div)[str(result_div).find(',')-1:str(result_div).find(',')+2])\n",
    "        print(mekan+\": success\")\n",
    "    except:\n",
    "        result.append('error')\n",
    "        print(mekan+\": error\")"
   ]
  },
  {
   "cell_type": "code",
   "execution_count": null,
   "metadata": {},
   "outputs": [],
   "source": [
    "result=[]\n",
    "for name in tqdm(names):\n",
    "    try:\n",
    "        google_url = \"https://www.google.com/search?q=\"+name\n",
    "        driver.get(google_url)\n",
    "        time.sleep(3)\n",
    "        soup = BeautifulSoup(driver.page_source,'lxml')\n",
    "        result_div = soup.find_all('div', attrs={'class': 'Ob2kfd'})\n",
    "        result.append(str(result_div)[str(result_div).find(',')-1:str(result_div).find(',')+2])\n",
    "        print(mekan+\": success\")\n",
    "    except:\n",
    "        result.append('error')\n",
    "        print(mekan+\": error\")"
   ]
  },
  {
   "cell_type": "code",
   "execution_count": null,
   "metadata": {},
   "outputs": [],
   "source": [
    "str(result_div)[str(result_div).find(',')-1:str(result_div).find(',')+2]"
   ]
  },
  {
   "cell_type": "code",
   "execution_count": null,
   "metadata": {},
   "outputs": [],
   "source": [
    "result.pop()"
   ]
  },
  {
   "cell_type": "code",
   "execution_count": null,
   "metadata": {},
   "outputs": [],
   "source": [
    "n['points']=result"
   ]
  },
  {
   "cell_type": "code",
   "execution_count": null,
   "metadata": {},
   "outputs": [],
   "source": [
    "pd.set_option('display.max_rows', 500)\n",
    "pd.set_option('display.max_columns', 500)"
   ]
  },
  {
   "cell_type": "code",
   "execution_count": null,
   "metadata": {
    "scrolled": false
   },
   "outputs": [],
   "source": [
    "#cXedhc (other class option)"
   ]
  },
  {
   "cell_type": "code",
   "execution_count": null,
   "metadata": {},
   "outputs": [],
   "source": [
    "n"
   ]
  },
  {
   "cell_type": "code",
   "execution_count": null,
   "metadata": {},
   "outputs": [],
   "source": []
  }
 ],
 "metadata": {
  "kernelspec": {
   "display_name": "Python 3",
   "language": "python",
   "name": "python3"
  },
  "language_info": {
   "codemirror_mode": {
    "name": "ipython",
    "version": 3
   },
   "file_extension": ".py",
   "mimetype": "text/x-python",
   "name": "python",
   "nbconvert_exporter": "python",
   "pygments_lexer": "ipython3",
   "version": "3.7.6"
  }
 },
 "nbformat": 4,
 "nbformat_minor": 4
}
